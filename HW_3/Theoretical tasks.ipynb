{
 "cells": [
  {
   "cell_type": "markdown",
   "metadata": {},
   "source": [
    "$\\textbf{Задача 2.3.}$"
   ]
  },
  {
   "cell_type": "markdown",
   "metadata": {},
   "source": [
    "$$D(\\frac{\\xi_1 + ... + \\xi_n}{n}) = \\frac{1}{n^2}D(\\xi_1 + ... + \\xi_n) = \\frac{1}{n^2}nD\\xi_1+\\frac{1}{n^2}\\sum_{i,j,i\\ne j}^ncov(\\xi_i, \\xi_j) = \\frac{\\sigma^2}{n}+n\\frac{n(n-1)}{n^2}\\rho\\sigma^2 = \\rho\\sigma^2 + \\frac{\\sigma^2}{n}(1 - \\rho)$$"
   ]
  },
  {
   "cell_type": "markdown",
   "metadata": {},
   "source": [
    "Что и требовалось."
   ]
  },
  {
   "cell_type": "markdown",
   "metadata": {},
   "source": [
    "Задачи 2.1 и 2.2 решены в файле bias_variance.pdf. Первая задача соответствует первой, а вторая третьей из pdfки."
   ]
  },
  {
   "cell_type": "code",
   "execution_count": null,
   "metadata": {
    "collapsed": true
   },
   "outputs": [],
   "source": []
  }
 ],
 "metadata": {
  "anaconda-cloud": {},
  "kernelspec": {
   "display_name": "Python 2.7",
   "language": "python",
   "name": "python2"
  },
  "language_info": {
   "codemirror_mode": {
    "name": "ipython",
    "version": 3
   },
   "file_extension": ".py",
   "mimetype": "text/x-python",
   "name": "python",
   "nbconvert_exporter": "python",
   "pygments_lexer": "ipython3",
   "version": "3.5.2"
  }
 },
 "nbformat": 4,
 "nbformat_minor": 1
}
