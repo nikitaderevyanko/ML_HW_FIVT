{
 "cells": [
  {
   "cell_type": "markdown",
   "metadata": {},
   "source": [
    "$\\textbf{Задача 4.1.}$"
   ]
  },
  {
   "cell_type": "markdown",
   "metadata": {},
   "source": [
    "$a(x) = argmax_y \\prod^n_{k=1} P(x^{(k)}|y)P(y)$ , т.к $P(y)$ одинаковая для всех классов получаем:"
   ]
  },
  {
   "cell_type": "markdown",
   "metadata": {},
   "source": [
    "$$a(x) = argmax_y \\prod^n_{k=1} P(x^{(k)}|y) = argmax_y \\prod^n_{k=1} \\frac{1}{\\sqrt{2\\pi\\sigma^2}}e^{-\\frac{(x^{(k)} - \\mu_{yk})^2}{2\\sigma^2}} \\Leftrightarrow $$"
   ]
  },
  {
   "cell_type": "markdown",
   "metadata": {},
   "source": [
    "$$\\Leftrightarrow argmax_y\\ e^{-\\sum^n_{k=1} \\frac{(x^{(k)} - \\mu_{yk})^2}{2\\sigma^2}} \\Leftrightarrow argmax_y \\sum^n_{k=1} (x^{(k)}-\\mu_{yk})^2$$"
   ]
  },
  {
   "cell_type": "markdown",
   "metadata": {},
   "source": [
    " A это и значит, что классификация объекта $x$ свелась к отнесению объекта $x$ к классу $y$ центр которого $\\mu_y$ ближе всего к $x$."
   ]
  },
  {
   "cell_type": "markdown",
   "metadata": {},
   "source": [
    "$\\textbf{Задача 4.2.}$"
   ]
  },
  {
   "cell_type": "markdown",
   "metadata": {},
   "source": [
    "Ниже пишу равенства, понятно, что это понимается в среднем (мат.ожидание значений). Ведь про площадь под графиком мы говорим в среднем."
   ]
  },
  {
   "cell_type": "markdown",
   "metadata": {},
   "source": [
    "Пусть доля первого класса равна $q$, тогда $\\frac{TP}{TP+FP} =  \\frac{FN}{FN + TN} = q$"
   ]
  },
  {
   "cell_type": "markdown",
   "metadata": {},
   "source": [
    "Если всего запросов $n$, то $TP + FP = pn$, а $FN + TN = (1-p)n$"
   ]
  },
  {
   "cell_type": "markdown",
   "metadata": {},
   "source": [
    "Имеем: $TP = q(TP + FP) = qpn,\\  FP = pn - qpn = (1-q)pn$. $FN = q(FN + TN) = q(1-p)n,\\  TN = (1-q)(1-p)n$."
   ]
  },
  {
   "cell_type": "markdown",
   "metadata": {},
   "source": [
    "$TPR = \\frac{TP}{TP + FN} = \\frac{qpn}{qpn + q(1-p)n} = p$"
   ]
  },
  {
   "cell_type": "markdown",
   "metadata": {},
   "source": [
    "$FPR = \\frac{FP}{FP + TN} = \\frac{(1-q)pn}{(1-q)pn + (1-q)(1-p)n} = p$"
   ]
  },
  {
   "cell_type": "markdown",
   "metadata": {},
   "source": [
    "Тогда для любых $q$ и для любого $n$ во второй точке (для любого барьера из отрезка от 0 до 1) $\\frac{TPR}{FPR} = \\frac{p}{p} = 1$"
   ]
  },
  {
   "cell_type": "markdown",
   "metadata": {},
   "source": [
    "Значит эта точка тоже лежит на диагонали, следовательно площадь под графиком всегда будет равна $0.5$"
   ]
  }
 ],
 "metadata": {
  "anaconda-cloud": {},
  "kernelspec": {
   "display_name": "Python 2.7",
   "language": "python",
   "name": "python2"
  },
  "language_info": {
   "codemirror_mode": {
    "name": "ipython",
    "version": 3
   },
   "file_extension": ".py",
   "mimetype": "text/x-python",
   "name": "python",
   "nbconvert_exporter": "python",
   "pygments_lexer": "ipython3",
   "version": "3.5.2"
  }
 },
 "nbformat": 4,
 "nbformat_minor": 1
}
