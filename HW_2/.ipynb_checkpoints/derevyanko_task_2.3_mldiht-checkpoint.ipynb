{
 "cells": [
  {
   "cell_type": "code",
   "execution_count": 1,
   "metadata": {
    "collapsed": true
   },
   "outputs": [],
   "source": [
    "import numpy as np\n",
    "\n",
    "from sklearn.model_selection import cross_val_score\n",
    "from sklearn import datasets"
   ]
  },
  {
   "cell_type": "code",
   "execution_count": 2,
   "metadata": {
    "collapsed": false
   },
   "outputs": [
    {
     "name": "stdout",
     "output_type": "stream",
     "text": [
      "Populating the interactive namespace from numpy and matplotlib\n"
     ]
    }
   ],
   "source": [
    "%pylab inline"
   ]
  },
  {
   "cell_type": "code",
   "execution_count": 3,
   "metadata": {
    "collapsed": false
   },
   "outputs": [
    {
     "name": "stdout",
     "output_type": "stream",
     "text": [
      "(506, 13) (506,)\n"
     ]
    }
   ],
   "source": [
    "boston = datasets.load_boston()\n",
    "print(boston.data.shape, boston.target.shape)"
   ]
  },
  {
   "cell_type": "code",
   "execution_count": 4,
   "metadata": {
    "collapsed": false
   },
   "outputs": [
    {
     "name": "stdout",
     "output_type": "stream",
     "text": [
      "(380, 13) (380,) (126, 13) (126,)\n"
     ]
    }
   ],
   "source": [
    "X_train = boston.data[:380]\n",
    "y_train = boston.target[:380]\n",
    "X_test = boston.data[380:]\n",
    "y_test = boston.target[380:]\n",
    "print(X_train.shape, y_train.shape, X_test.shape, y_test.shape)"
   ]
  },
  {
   "cell_type": "code",
   "execution_count": 5,
   "metadata": {
    "collapsed": false
   },
   "outputs": [
    {
     "name": "stdout",
     "output_type": "stream",
     "text": [
      "(13,) (13,) 13\n"
     ]
    }
   ],
   "source": [
    "mins = np.empty([0])\n",
    "maxs = np.empty([0])\n",
    "for i in range(X_train.shape[1]):\n",
    "    mins = np.append(mins, (np.amin(X_train[:, i]))) \n",
    "    maxs = np.append(maxs, (np.amax(X_train[:, i])))\n",
    "print(mins.shape, maxs.shape , X_train.shape[1])"
   ]
  },
  {
   "cell_type": "code",
   "execution_count": 6,
   "metadata": {
    "collapsed": true
   },
   "outputs": [],
   "source": [
    "MAX = 10000000"
   ]
  },
  {
   "cell_type": "code",
   "execution_count": 7,
   "metadata": {
    "collapsed": true
   },
   "outputs": [],
   "source": [
    "def h(arr):\n",
    "    return np.mean((arr - np.mean(arr))**2)"
   ]
  },
  {
   "cell_type": "code",
   "execution_count": 8,
   "metadata": {
    "collapsed": true
   },
   "outputs": [],
   "source": [
    "class Node:   \n",
    "    def __init__(self, R_or_L, X, y):\n",
    "        self.R_or_L = R_or_L\n",
    "        self.X = X\n",
    "        self.y = y\n",
    "        self.feature = None\n",
    "        self.bound = None\n",
    "        self.mean = None\n",
    "        self.right_neighbour = None\n",
    "        self.left_neighbour = None\n",
    "        \n",
    "    def set_left_neighbour(self, Node):\n",
    "        self.left_neighbour = Node\n",
    "    def set_right_neighbour(self, Node):\n",
    "        self.right_neighbour = Node\n",
    "    def set_mean(self):\n",
    "        self.mean = np.mean(self.y)\n",
    "    def set_feature(self, feature):\n",
    "        self.feature = feature\n",
    "    def set_bound(self, bound):\n",
    "        self.bound = bound"
   ]
  },
  {
   "cell_type": "code",
   "execution_count": 9,
   "metadata": {
    "collapsed": false
   },
   "outputs": [],
   "source": [
    "class DecisionTree:\n",
    "    def __init__(self, depth = 10):\n",
    "        self.depth = depth\n",
    "    def partition(self, node, curdepth):\n",
    "        node.set_mean()\n",
    "        if(curdepth > self.depth):\n",
    "            return\n",
    "        if(node.X.shape[0] == 0 or node.X is None):\n",
    "            return\n",
    "        X_left = np.empty([0])\n",
    "        y_left = np.empty([0])\n",
    "        X_right = np.empty([0])\n",
    "        y_right = np.empty([0])\n",
    "        minG = MAX\n",
    "        mfeature = 0\n",
    "        mbound = 0\n",
    "        for i in range(node.X.shape[1]):\n",
    "            for j in range(node.X.shape[0]):\n",
    "                X_rcur = node.X[node.X[:, i] <= node.X[j,i]]\n",
    "                y_rcur = node.y[node.X[:, i] <= node.X[j,i]]\n",
    "                X_lcur = node.X[node.X[:, i] > node.X[j,i]]\n",
    "                y_lcur = node.y[node.X[:, i] > node.X[j,i]]\n",
    "                if(X_rcur is None or X_rcur.shape[0] == 0 or X_lcur.shape[0] == 0 or X_lcur is None):\n",
    "                    continue\n",
    "                r = y_rcur.shape[0]\n",
    "                l = y_lcur.shape[0]\n",
    "                G = l/node.X.shape[0] * h(X_lcur) + r/node.X.shape[0] * h(X_rcur)\n",
    "                if(minG > G):\n",
    "                    minG = G\n",
    "                    X_left = X_lcur\n",
    "                    X_right = X_rcur\n",
    "                    y_left = y_lcur\n",
    "                    y_right = y_rcur\n",
    "                    mfeature = i\n",
    "                    mbound = j\n",
    "        if(minG == MAX):\n",
    "            return\n",
    "        if(X_left is not None and X_left.shape[0] != 0 and X_right is not None and X_right.shape[0] != 0):\n",
    "            node.set_feature(mfeature)\n",
    "            node.set_bound(mbound)\n",
    "            leftnode = Node(1, X_left, y_left)\n",
    "            node.set_left_neighbour(leftnode)\n",
    "            self.partition(node.left_neighbour, curdepth + 1)\n",
    "            rightnode = Node(0, X_right, y_right)\n",
    "            node.set_right_neighbour(rightnode)\n",
    "            self.partition(node.right_neighbour, curdepth + 1)\n",
    "    def fit(self, X_train, y_train):\n",
    "        self.root = Node(-1, X_train, y_train)\n",
    "        self.partition(self.root, 1)\n",
    "    def prediction(self, node, arr):\n",
    "        if(node.feature is None):\n",
    "            return(node.mean)\n",
    "        if(arr[node.feature] <= node.bound):\n",
    "            return(self.prediction(node.right_neighbour, arr))\n",
    "        else:\n",
    "            return(self.prediction(node.left_neighbour, arr))\n",
    "    def predict(self, X_test, y_test):\n",
    "        y_pred = np.empty([0])\n",
    "        for i in range(X_test.shape[0]):\n",
    "            y_pred = np.append(y_pred, self.prediction(self.root, X_test[i]))\n",
    "        return y_pred\n",
    "    def mse_check(self, y_pred, y_test):\n",
    "        return(np.mean((y_test - y_pred)**2))\n",
    "    "
   ]
  },
  {
   "cell_type": "code",
   "execution_count": 10,
   "metadata": {
    "collapsed": false
   },
   "outputs": [],
   "source": [
    "tree = DecisionTree(depth=6)\n",
    "tree.fit(X_train, y_train)"
   ]
  },
  {
   "cell_type": "code",
   "execution_count": 11,
   "metadata": {
    "collapsed": false
   },
   "outputs": [],
   "source": [
    "y_pred = tree.predict(X_test, y_test)"
   ]
  },
  {
   "cell_type": "code",
   "execution_count": 12,
   "metadata": {
    "collapsed": false
   },
   "outputs": [
    {
     "name": "stdout",
     "output_type": "stream",
     "text": [
      "28.6576112496\n"
     ]
    }
   ],
   "source": [
    "print(tree.mse_check(y_pred, y_test))"
   ]
  }
 ],
 "metadata": {
  "anaconda-cloud": {},
  "kernelspec": {
   "display_name": "Python 2.7",
   "language": "python",
   "name": "python2"
  },
  "language_info": {
   "codemirror_mode": {
    "name": "ipython",
    "version": 3
   },
   "file_extension": ".py",
   "mimetype": "text/x-python",
   "name": "python",
   "nbconvert_exporter": "python",
   "pygments_lexer": "ipython3",
   "version": "3.5.2"
  }
 },
 "nbformat": 4,
 "nbformat_minor": 1
}
