{
 "cells": [
  {
   "cell_type": "markdown",
   "metadata": {},
   "source": [
    "$\\textbf{Задача 1.1.}$"
   ]
  },
  {
   "cell_type": "markdown",
   "metadata": {},
   "source": [
    "Пусть $N$ - общее число объектов, $k$ - количество листов, $n_i$ - количество объектов, попавших в $i$-тый лист."
   ]
  },
  {
   "cell_type": "markdown",
   "metadata": {},
   "source": [
    "Рассмотрим случай, когда отвечаем средним значением, тогда MSE принимает такой вид:"
   ]
  },
  {
   "cell_type": "markdown",
   "metadata": {},
   "source": [
    "$$\\frac{1}{N}\\sum_{i=1}^{N}(y_i - \\hat{y_i})^2 = \\frac{1}{N}\\sum_{i=1}^{k}\\sum_{j=1}^{n_i}(y_{ij} - \\frac{1}{n_i}\\sum_{l=1}^{n_i}\\hat{y_{ij}})^2 = \\frac{1}{N}\\sum_{i=1}^{k}(\\sum_{l=1}^{n_i}y_{ij}^2 - \\frac{2}{n_i}\\sum_{j=1}^{n_i}\\hat{y_{ij}}\\sum_{l=1}^{n_i}y_{ij} + \\frac{1}{n_i}(\\sum_{l=1}^{n_i}\\hat{y_{ij}})^2) $$ "
   ]
  },
  {
   "cell_type": "markdown",
   "metadata": {},
   "source": [
    "Притом мы получили просто число, поэтому после взятия мат.ожидания ничего не изменится."
   ]
  },
  {
   "cell_type": "markdown",
   "metadata": {},
   "source": [
    "Во втором случае получаем такое выражения для мат.ожидания MSE:"
   ]
  },
  {
   "cell_type": "markdown",
   "metadata": {},
   "source": [
    "$$E \\frac{1}{N}\\sum_{i=1}^{N}(y_i - \\hat{y_i})^2 = \\frac{1}{N}\\sum_{i=1}^{k}\\sum_{j=1}^{n_i}\\frac{1}{n_i}\\sum_{l=1}^{n_i}(y_{ij} - \\hat{y_{ij}})^2 = \\frac{1}{N}\\sum_{i=1}^{k}\\sum_{j=1}^{n_i}\\frac{1}{n_i} (n_i y_{ij}^2 - 2y_{ij}(\\sum_{l=1}^{n_i}\\hat{y_{ij}}) + \\sum_{l=1}^{n_i}\\hat{y_{ij}^2}) = \\frac{1}{N}\\sum_{i=1}^{k}(\\sum_{j=1}^{n_i}y_{ij}^2 - \\frac{2}{n_i}\\sum_{j=1}^{n_i}y_{ij}\\sum_{l=1}^{n_i}\\hat{y_{ij}} + \\sum_{l=1}^{n_i}\\hat{y_{ij}^2})$$"
   ]
  },
  {
   "cell_type": "markdown",
   "metadata": {},
   "source": [
    "Возьмем разность 2 и 1, получим:"
   ]
  },
  {
   "cell_type": "markdown",
   "metadata": {},
   "source": [
    "$$\\sum_{i=1}^{k}(\\sum_{l=1}^{n_i}\\hat{y_{ij}^2} - \\frac{1}{n_i}(\\sum_{l=1}^{n_i}\\hat{y_{ij}})^2)$$"
   ]
  },
  {
   "cell_type": "markdown",
   "metadata": {},
   "source": [
    "Рассмотрим одно слагаемое при фикстрованном $i$ и поделим его на $n_i$ и возьмем корень:"
   ]
  },
  {
   "cell_type": "markdown",
   "metadata": {},
   "source": [
    "$$\\sqrt{\\frac{1}{n_i}\\sum_{l=1}^{n_i}\\hat{y_{ij}^2}} - \\frac{1}{n_i}\\sqrt{(\\sum_{l=1}^{n_i}\\hat{y_{ij}})^2} \\geq 0$$"
   ]
  },
  {
   "cell_type": "markdown",
   "metadata": {},
   "source": [
    "Значит мат.ожидание ошибки во втором случае больше либо равно, чем в первом случае."
   ]
  },
  {
   "cell_type": "markdown",
   "metadata": {},
   "source": [
    "$\\textbf{Задача 1.3.}$"
   ]
  },
  {
   "cell_type": "markdown",
   "metadata": {},
   "source": [
    "$$p_X(x) = \\frac{1}{(2\\pi)^{n/2}|\\Sigma|^{1/2}}e^{-1/2(x-\\mu)^T\\Sigma^{-1}(x-\\mu)}$$"
   ]
  },
  {
   "cell_type": "markdown",
   "metadata": {},
   "source": [
    "$$H(S) = -\\int_{-\\infty}^{+\\infty} p_X(x)log(p_X(x))dx = \\frac{n}{2}log{2\\pi} + \\frac{1}{2}log{|\\Sigma|} - \\int_{-\\infty}^{+\\infty} p_X(x)(-1/2(x-\\mu)^T\\Sigma^{-1}(x-\\mu)) =$$"
   ]
  },
  {
   "cell_type": "markdown",
   "metadata": {},
   "source": [
    "Посмотрим чему равен этот ($-\\int_{-\\infty}^{+\\infty} p_X(x)log(-1/2(x-\\mu)^T\\Sigma^{-1}(x-\\mu))$) интересный интеграл."
   ]
  },
  {
   "cell_type": "markdown",
   "metadata": {},
   "source": [
    "$$-1/2(x-\\mu)^T\\Sigma^{-1}(x-\\mu) = -1/2 \\sum_{i,j}(x_i - \\mu_i)(\\Sigma^{-1})_{ij}(x_j - \\mu_j) = -1/2 \\sum_{i,j}(x_i - EX_i)(\\Sigma^{-1})_{ij}(x_j - EX_j)$$"
   ]
  },
  {
   "cell_type": "markdown",
   "metadata": {},
   "source": [
    "Тогда:"
   ]
  },
  {
   "cell_type": "markdown",
   "metadata": {},
   "source": [
    "$$ -\\int_{-\\infty}^{+\\infty} p_X(x)(-1/2(x-\\mu)^T\\Sigma^{-1}(x-\\mu)) = \\frac{1}{2}\\int_{-\\infty}^{+\\infty} p_X(x)(\\sum_{i,j}(x_i - EX_i)(x_j - EX_j)(\\Sigma^{-1})_{ij}) = \\frac{1}{2}\\sum_{i,j}E(X_i - EX_i)(X_j - EX_j)(\\Sigma^{-1})_{ij} =$$ $$ \\frac{1}{2}\\sum_{ij}(\\Sigma)_{ij}(\\Sigma^{-1})_{ij} = \\frac{n}{2}$$"
   ]
  },
  {
   "cell_type": "markdown",
   "metadata": {},
   "source": [
    "$$= \\frac{n}{2}ln{2\\pi} + \\frac{1}{2}ln{|\\Sigma|} + \\frac{n}{2} = \\frac{1}{2}ln((2\\pi e)^n|\\Sigma|)$$"
   ]
  },
  {
   "cell_type": "markdown",
   "metadata": {},
   "source": [
    "Получили то, что требовалось."
   ]
  }
 ],
 "metadata": {
  "kernelspec": {
   "display_name": "Python 2.7",
   "language": "python",
   "name": "python2"
  },
  "language_info": {
   "codemirror_mode": {
    "name": "ipython",
    "version": 3
   },
   "file_extension": ".py",
   "mimetype": "text/x-python",
   "name": "python",
   "nbconvert_exporter": "python",
   "pygments_lexer": "ipython3",
   "version": "3.5.2"
  }
 },
 "nbformat": 4,
 "nbformat_minor": 1
}
