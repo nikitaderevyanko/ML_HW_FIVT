{
 "cells": [
  {
   "cell_type": "markdown",
   "metadata": {},
   "source": [
    "$\\textbf{Задача 3.2.}$"
   ]
  },
  {
   "cell_type": "markdown",
   "metadata": {},
   "source": [
    "$p(x,y\\ |\\ w)$ - вероятностная модель данных, $p(w,\\gamma)$ - априорное распределение параметров модели\n",
    "$\\gamma$ - вектор гипперпараметров. Полагаем появление модели $w$ случайным."
   ]
  },
  {
   "cell_type": "markdown",
   "metadata": {},
   "source": [
    "$P(X^l, w) = p(X^l\\ |\\ w)p(w;\\gamma)$"
   ]
  },
  {
   "cell_type": "markdown",
   "metadata": {},
   "source": [
    "Принцип максимума соместного правдоподобия"
   ]
  },
  {
   "cell_type": "markdown",
   "metadata": {},
   "source": [
    "$L(w, X^l) = ln\\ p(X^l,w) = \\sum_{i=1}^{l}ln\\ p(x_iy_i\\ |\\ w) + ln\\ p(w;\\gamma) \\rightarrow max_{w, \\gamma}$"
   ]
  },
  {
   "cell_type": "markdown",
   "metadata": {},
   "source": [
    "Пусть $w \\in \\mathbb{R}^n$ имеет $n$-мерное гауссовское распределение"
   ]
  },
  {
   "cell_type": "markdown",
   "metadata": {},
   "source": [
    "$$p(w;\\sigma) = \\frac{1}{(2\\pi\\sigma)^{(\\frac{n}{2})}}exp(-\\frac{\\|w\\|^2}{2\\sigma}), \\|w\\|^2 = \\sum_{j=1}^n w_j^2$$"
   ]
  },
  {
   "cell_type": "markdown",
   "metadata": {},
   "source": [
    "Т.е. все веса независимы, имеют нулевое мат. ожидание и раноую дисперсию $\\sigma; \\sigma$ - гиперпараметр. Пролагарифмируем:"
   ]
  },
  {
   "cell_type": "markdown",
   "metadata": {},
   "source": [
    "$$-ln\\ p(w;\\sigma) = \\frac{1}{2\\sigma}\\|w\\|^2 + const(w)$$ вероятностный смысл параметра $\\gamma = \\frac{1}{\\sigma}$"
   ]
  },
  {
   "cell_type": "markdown",
   "metadata": {},
   "source": [
    "Пусть $w \\in \\mathbb{R}^n$ имеет $n$-мерное распределение Лапласа"
   ]
  },
  {
   "cell_type": "markdown",
   "metadata": {},
   "source": [
    "$$p(w;\\sigma) = \\frac{1}{(2С)^n}exp(-\\frac{\\|w\\|_1}{C}), \\|w\\|_1 = \\sum_{j=1}^n |w_j|$$"
   ]
  },
  {
   "cell_type": "markdown",
   "metadata": {},
   "source": [
    "Все веса независимы и имеют нулевое мат.ожидание и равную дисперсию $C$-гиперпараметр"
   ]
  },
  {
   "cell_type": "markdown",
   "metadata": {},
   "source": [
    "$$-ln\\ p(w;C) = \\frac{1}{C}\\sum_{j=1}^n |w_j| + const(w)$$ "
   ]
  },
  {
   "cell_type": "markdown",
   "metadata": {},
   "source": [
    "$\\textbf{Задача 3.3.}$"
   ]
  },
  {
   "cell_type": "markdown",
   "metadata": {},
   "source": [
    "$$a(x) = sign(\\sum_{j=1}^n \\omega_jx^j - \\omega_0) = sign(<\\omega, x> - \\omega_0) \\ \\ \\ \\ min_{i=1,..,l}y_i(<\\omega, x_i> - \\omega_0) = 1$$"
   ]
  },
  {
   "cell_type": "markdown",
   "metadata": {},
   "source": [
    "$$<(x_+ - x_-), \\frac{\\omega}{\\|\\omega\\|}> = \\frac{<\\omega, x_+> - <\\omega, x_->}{\\|\\omega\\|} = \\frac{(\\omega_0 + 1) - (\\omega_0 - 1)}{\\|\\omega\\|} = \\frac{2}{\\|\\omega\\|}$$"
   ]
  },
  {
   "cell_type": "markdown",
   "metadata": {},
   "source": [
    "\\begin{equation*}\n",
    " \\begin{cases}\n",
    "   <\\omega, \\omega> \\rightarrow min \\\\ \n",
    "   y_i(<\\omega, x_i> - \\omega_0) \\geq 1, i = 1,..,l\n",
    " \\end{cases}\n",
    "\\end{equation*}"
   ]
  },
  {
   "cell_type": "markdown",
   "metadata": {},
   "source": [
    "\\begin{equation*}\n",
    " \\begin{cases}\n",
    "   \\frac{1}{2}<\\omega, \\omega> + C\\sum_{i = 1}^l \\xi_i \\rightarrow min_{\\omega, \\omega_0, \\xi} \\\\ \n",
    "   y_i(<\\omega, x_i> - \\omega_0) \\geq 1 - \\xi_i, i = 1,..,l \\\\\n",
    "   \\xi_i \\geq, i=1,..,l\n",
    " \\end{cases}\n",
    "\\end{equation*}"
   ]
  },
  {
   "cell_type": "markdown",
   "metadata": {},
   "source": [
    "$\\xi_i \\geq 0,\\  \\xi_i \\geq 1 - M_i,\\  \\sum_{i=1}\\xi_i \\rightarrow min, \\ M_i = y_i(<\\omega, x_i> - \\omega_0)$"
   ]
  },
  {
   "cell_type": "markdown",
   "metadata": {},
   "source": [
    "$\\Rightarrow \\xi_i = max\\{0, 1 - M_i\\} = (1 - M_i)_+$"
   ]
  },
  {
   "cell_type": "markdown",
   "metadata": {},
   "source": [
    "Безусловная оптимизационная задача в SVM"
   ]
  },
  {
   "cell_type": "markdown",
   "metadata": {},
   "source": [
    "$Q(\\omega, \\omega_0) = \\sum_{i = 1}^l(1 - M_i(\\omega, \\omega_0))_+ + \\frac{1}{2C}\\|\\omega\\|^2 \\rightarrow min_{\\omega, \\omega_0}$"
   ]
  }
 ],
 "metadata": {
  "anaconda-cloud": {},
  "kernelspec": {
   "display_name": "Python 2.7",
   "language": "python",
   "name": "python2"
  },
  "language_info": {
   "codemirror_mode": {
    "name": "ipython",
    "version": 3
   },
   "file_extension": ".py",
   "mimetype": "text/x-python",
   "name": "python",
   "nbconvert_exporter": "python",
   "pygments_lexer": "ipython3",
   "version": "3.5.2"
  }
 },
 "nbformat": 4,
 "nbformat_minor": 1
}
