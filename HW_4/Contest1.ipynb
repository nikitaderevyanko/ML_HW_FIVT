{
 "cells": [
  {
   "cell_type": "code",
   "execution_count": 1,
   "metadata": {
    "collapsed": false
   },
   "outputs": [],
   "source": [
    "import numpy as np\n",
    "import pandas as pd\n",
    "from  scipy import sparse\n",
    "from sklearn import linear_model\n",
    "from sklearn.metrics import roc_auc_score\n",
    "from sklearn import model_selection\n",
    " \n",
    "train = pd.read_csv('linear_train.txt', names=['word', 'I'])\n",
    "test = pd.read_csv('linear_test.txt', names=['word', 'I'])\n",
    "sample_submission = pd.read_csv('linear_ans_example.txt')\n",
    "y = train.as_matrix()[:, 1]\n",
    "#X_words = train.as_matrix()[:, 0]\n",
    "X_words = np.array(train['word'])\n",
    "#print(X_words)"
   ]
  },
  {
   "cell_type": "code",
   "execution_count": 2,
   "metadata": {
    "collapsed": false
   },
   "outputs": [
    {
     "data": {
      "text/html": [
       "<div>\n",
       "<table border=\"1\" class=\"dataframe\">\n",
       "  <thead>\n",
       "    <tr style=\"text-align: right;\">\n",
       "      <th></th>\n",
       "      <th>word</th>\n",
       "      <th>I</th>\n",
       "    </tr>\n",
       "  </thead>\n",
       "  <tbody>\n",
       "    <tr>\n",
       "      <th>0</th>\n",
       "      <td>Аалтонен</td>\n",
       "      <td>1</td>\n",
       "    </tr>\n",
       "    <tr>\n",
       "      <th>1</th>\n",
       "      <td>Аар</td>\n",
       "      <td>0</td>\n",
       "    </tr>\n",
       "    <tr>\n",
       "      <th>2</th>\n",
       "      <td>Аарон</td>\n",
       "      <td>0</td>\n",
       "    </tr>\n",
       "    <tr>\n",
       "      <th>3</th>\n",
       "      <td>ААРОН</td>\n",
       "      <td>0</td>\n",
       "    </tr>\n",
       "    <tr>\n",
       "      <th>4</th>\n",
       "      <td>Аарона</td>\n",
       "      <td>0</td>\n",
       "    </tr>\n",
       "  </tbody>\n",
       "</table>\n",
       "</div>"
      ],
      "text/plain": [
       "       word  I\n",
       "0  Аалтонен  1\n",
       "1       Аар  0\n",
       "2     Аарон  0\n",
       "3     ААРОН  0\n",
       "4    Аарона  0"
      ]
     },
     "execution_count": 2,
     "metadata": {},
     "output_type": "execute_result"
    }
   ],
   "source": [
    "train.head(5)"
   ]
  },
  {
   "cell_type": "code",
   "execution_count": 3,
   "metadata": {
    "collapsed": false
   },
   "outputs": [],
   "source": [
    "alph_size = 33\n",
    "def word_vec_size(alph_size):\n",
    "    return (alph_size**3 + alph_size**2 + alph_size)\n",
    "size_f =  word_vec_size(alph_size)"
   ]
  },
  {
   "cell_type": "code",
   "execution_count": 12,
   "metadata": {
    "collapsed": true
   },
   "outputs": [],
   "source": [
    "alph_size = 33\n",
    "def word_vec_size2(alph_size):\n",
    "    return (alph_size**3 + alph_size**2 + alph_size + alph_size**2 + alph_size)\n",
    "size_f2 =  word_vec_size(alph_size) + word_vec_size2(alph_size)"
   ]
  },
  {
   "cell_type": "code",
   "execution_count": 13,
   "metadata": {
    "collapsed": false
   },
   "outputs": [],
   "source": [
    "def lgram_encode(alph_size, word):\n",
    "    word = word.lower()\n",
    "    answ = (ord(word[0])-ord('а'))*alph_size**2 + (ord(word[1])-ord('а'))*alph_size + (ord(word[2])-ord('а'))\n",
    "    return answ"
   ]
  },
  {
   "cell_type": "code",
   "execution_count": 14,
   "metadata": {
    "collapsed": false
   },
   "outputs": [],
   "source": [
    "def lgram_encode2(alph_size, word):\n",
    "    word = word.lower()\n",
    "    answ = (word_vec_size(alph_size) + (ord(word[0])-ord('а'))*alph_size + (ord(word[1])-ord('а')))\n",
    "    return answ"
   ]
  },
  {
   "cell_type": "code",
   "execution_count": 15,
   "metadata": {
    "collapsed": true
   },
   "outputs": [],
   "source": [
    "def extract_2lgrams(alph_size, word, ind, data, ij):\n",
    "    length = len(word)\n",
    "    word_vec = np.zeros(word_vec_size2(alph_size))\n",
    "    for i in range(length-2):\n",
    "        lgram = word[i:i+2]\n",
    "        lgram = lgram.lower()\n",
    "        fail = 0\n",
    "        for j in range(2):\n",
    "            if(ord('а') > ord(lgram[j]) or ord(lgram[j]) > ord('я')):\n",
    "                    fail = fail + 1\n",
    "        if(fail == 0):            \n",
    "            pos = lgram_encode2(alph_size, lgram)\n",
    "            data.append(1)\n",
    "            ij.append([ind, pos])"
   ]
  },
  {
   "cell_type": "code",
   "execution_count": 16,
   "metadata": {
    "collapsed": false
   },
   "outputs": [],
   "source": [
    "def extract_3lgrams(alph_size, word, ind, data, ij):\n",
    "    length = len(word)\n",
    "    word_vec = np.zeros(word_vec_size(alph_size))\n",
    "    for i in range(length-2):\n",
    "        lgram = word[i:i+3]\n",
    "        lgram = lgram.lower()\n",
    "        fail = 0\n",
    "        for j in range(3):\n",
    "            if(ord('а') > ord(lgram[j]) or ord(lgram[j]) > ord('я')):\n",
    "                    fail = fail + 1\n",
    "        if(fail == 0):            \n",
    "            pos = lgram_encode(alph_size, lgram)\n",
    "            data.append(1)\n",
    "            ij.append([ind, pos])"
   ]
  },
  {
   "cell_type": "code",
   "execution_count": 17,
   "metadata": {
    "collapsed": false
   },
   "outputs": [
    {
     "name": "stdout",
     "output_type": "stream",
     "text": [
      "75240\n"
     ]
    }
   ],
   "source": [
    "print(size_f2)"
   ]
  },
  {
   "cell_type": "code",
   "execution_count": 18,
   "metadata": {
    "collapsed": false
   },
   "outputs": [],
   "source": [
    "def make_features(train, alph_size, size):\n",
    "    data = []\n",
    "    ij = []\n",
    "    for i in range(size):\n",
    "        extract_3lgrams(alph_size, train[i], i, data, ij)\n",
    "        extract_2lgrams(alph_size, train[i], i, data, ij)\n",
    "    print(np.shape(data), np.shape(np.transpose(ij)))\n",
    "    return(sparse.csr_matrix((data, np.transpose(ij)), shape=(size, size_f2)))"
   ]
  },
  {
   "cell_type": "code",
   "execution_count": 19,
   "metadata": {
    "collapsed": false
   },
   "outputs": [
    {
     "name": "stdout",
     "output_type": "stream",
     "text": [
      "(1299886,) (2, 1299886)\n"
     ]
    }
   ],
   "source": [
    "size = np.shape(X_words)[0]\n",
    "X = make_features(X_words, 33, size)"
   ]
  },
  {
   "cell_type": "code",
   "execution_count": 52,
   "metadata": {
    "collapsed": false
   },
   "outputs": [],
   "source": [
    "LG = linear_model.LogisticRegression(C = 0.4)"
   ]
  },
  {
   "cell_type": "code",
   "execution_count": 53,
   "metadata": {
    "collapsed": false
   },
   "outputs": [
    {
     "name": "stdout",
     "output_type": "stream",
     "text": [
      "(101408, 75240) (101408,)\n",
      "[1 0 0 0 0 1 0 0 0 1]\n"
     ]
    }
   ],
   "source": [
    "print(np.shape(X), np.shape(y))\n",
    "print(y[:10])"
   ]
  },
  {
   "cell_type": "code",
   "execution_count": 54,
   "metadata": {
    "collapsed": false
   },
   "outputs": [
    {
     "data": {
      "text/plain": [
       "LogisticRegression(C=0.4, class_weight=None, dual=False, fit_intercept=True,\n",
       "          intercept_scaling=1, max_iter=100, multi_class='ovr', n_jobs=1,\n",
       "          penalty='l2', random_state=None, solver='liblinear', tol=0.0001,\n",
       "          verbose=0, warm_start=False)"
      ]
     },
     "execution_count": 54,
     "metadata": {},
     "output_type": "execute_result"
    }
   ],
   "source": [
    "LG.fit(X, np.array(train['I']))"
   ]
  },
  {
   "cell_type": "code",
   "execution_count": 55,
   "metadata": {
    "collapsed": false
   },
   "outputs": [
    {
     "name": "stdout",
     "output_type": "stream",
     "text": [
      "(101408, 75240)\n"
     ]
    }
   ],
   "source": [
    "print(np.shape(X))"
   ]
  },
  {
   "cell_type": "code",
   "execution_count": 56,
   "metadata": {
    "collapsed": false
   },
   "outputs": [
    {
     "data": {
      "text/plain": [
       "0.92062054868747079"
      ]
     },
     "execution_count": 56,
     "metadata": {},
     "output_type": "execute_result"
    }
   ],
   "source": [
    "roc_auc_score(np.array(train['I']), LG.predict_proba(X)[:, 1])"
   ]
  },
  {
   "cell_type": "code",
   "execution_count": 57,
   "metadata": {
    "collapsed": false
   },
   "outputs": [],
   "source": [
    "modelcr=linear_model.LogisticRegression(C=0.4)"
   ]
  },
  {
   "cell_type": "code",
   "execution_count": 58,
   "metadata": {
    "collapsed": false
   },
   "outputs": [
    {
     "name": "stdout",
     "output_type": "stream",
     "text": [
      "0.717968757072\n"
     ]
    }
   ],
   "source": [
    "print(np.mean(model_selection.cross_val_score(modelcr, X, np.array(train['I']), scoring='roc_auc', cv=5)))"
   ]
  },
  {
   "cell_type": "code",
   "execution_count": 59,
   "metadata": {
    "collapsed": true
   },
   "outputs": [],
   "source": [
    "X_test = np.array(test['word'])"
   ]
  },
  {
   "cell_type": "code",
   "execution_count": 60,
   "metadata": {
    "collapsed": false
   },
   "outputs": [
    {
     "name": "stdout",
     "output_type": "stream",
     "text": [
      "(2417614,) (2, 2417614)\n"
     ]
    }
   ],
   "source": [
    "size = np.shape(X_test)[0]\n",
    "X_t = make_features(X_test, 33, size)"
   ]
  },
  {
   "cell_type": "code",
   "execution_count": 61,
   "metadata": {
    "collapsed": false
   },
   "outputs": [
    {
     "name": "stdout",
     "output_type": "stream",
     "text": [
      "(188920, 75240)\n"
     ]
    }
   ],
   "source": [
    "print(np.shape(X_t))"
   ]
  },
  {
   "cell_type": "code",
   "execution_count": 62,
   "metadata": {
    "collapsed": false
   },
   "outputs": [],
   "source": [
    "with open('linear_second.txt', 'w') as f:\n",
    "    f.write('Id,Answer\\n')\n",
    "    iid = 0\n",
    "    for iid, i in enumerate(LG.predict_proba(X_t)[:, 1]): # enumerate\n",
    "        f.write(str(iid) + ',' + str(i) + '\\n')\n",
    "        iid += 1"
   ]
  },
  {
   "cell_type": "code",
   "execution_count": 63,
   "metadata": {
    "collapsed": false
   },
   "outputs": [],
   "source": [
    "s = []\n",
    "with open('linear_second.txt', 'r') as f:\n",
    "    for i in f:\n",
    "        s.append(i)"
   ]
  },
  {
   "cell_type": "code",
   "execution_count": 64,
   "metadata": {
    "collapsed": false
   },
   "outputs": [
    {
     "data": {
      "text/plain": [
       "'0,0.368327043046\\n'"
      ]
     },
     "execution_count": 64,
     "metadata": {},
     "output_type": "execute_result"
    }
   ],
   "source": [
    "s[1]"
   ]
  },
  {
   "cell_type": "code",
   "execution_count": null,
   "metadata": {
    "collapsed": true
   },
   "outputs": [],
   "source": []
  },
  {
   "cell_type": "code",
   "execution_count": null,
   "metadata": {
    "collapsed": true
   },
   "outputs": [],
   "source": []
  },
  {
   "cell_type": "code",
   "execution_count": null,
   "metadata": {
    "collapsed": true
   },
   "outputs": [],
   "source": []
  }
 ],
 "metadata": {
  "anaconda-cloud": {},
  "kernelspec": {
   "display_name": "Python 2.7",
   "language": "python",
   "name": "python2"
  },
  "language_info": {
   "codemirror_mode": {
    "name": "ipython",
    "version": 3
   },
   "file_extension": ".py",
   "mimetype": "text/x-python",
   "name": "python",
   "nbconvert_exporter": "python",
   "pygments_lexer": "ipython3",
   "version": "3.5.2"
  }
 },
 "nbformat": 4,
 "nbformat_minor": 1
}
